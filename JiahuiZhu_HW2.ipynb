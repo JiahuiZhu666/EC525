{
  "cells": [
    {
      "cell_type": "markdown",
      "metadata": {
        "id": "Zp_nCL_eeFqv"
      },
      "source": [
        "**IMPORTANT:** \n",
        "\n",
        "**This notebook is a template, and you cannot edit it. To write your own PA, download as .ipynb (File -> download as .ipynb) and upload it to your own Google Colab.**\n",
        "\n",
        "You should run this using a GPU! In Colab, go to the \"runtime\" menu, choose \"change runtime type\", and select \"GPU\" from the hardware accelerator dropdown menu. Otherwise, this might take much longer. With the GPU, it should run in about 20 minutes or less.\n",
        "\n",
        "There are **7** places you need to write code in this notebook, for questions **1, 2a, 2b, 3a, 3b, 4a, 4b**, for a total of 60 points.\n",
        "\n",
        "To turn in this homework: download as .ipynb (File -> download as .ipynb). Make the filename YOURNAME_HW2.ipynb and upload to Gradescope. The assignment due on November 11th at 11:59PM.\n",
        "\n",
        "Be aware: this assignment may require up to **3 hours** of computation for testing different parameters even when\n",
        "everything is implemented correctly.\n",
        "\n",
        "Please read the comments and explanation code carefully. In particular, you may want to study the provided implementation of SGD to get an idea of how the pytorch optimizer class works.\n",
        "\n",
        "Cell outputs are provided. If you implement your code correctly, you should expect your outputs to be similar to the provided outputs."
      ]
    },
    {
      "cell_type": "code",
      "execution_count": 1,
      "metadata": {
        "colab": {
          "base_uri": "https://localhost:8080/"
        },
        "id": "tohFb7lQUdI7",
        "outputId": "3a3cf540-1d0c-4041-bb6a-f81b78f62fec"
      },
      "outputs": [
        {
          "output_type": "stream",
          "name": "stdout",
          "text": [
            "Cloning into 'PA2'...\n",
            "remote: Enumerating objects: 24, done.\u001b[K\n",
            "remote: Counting objects: 100% (24/24), done.\u001b[K\n",
            "remote: Compressing objects: 100% (19/19), done.\u001b[K\n",
            "remote: Total 24 (delta 11), reused 16 (delta 5), pack-reused 0\u001b[K\n",
            "Unpacking objects: 100% (24/24), done.\n",
            "--2022-11-12 05:04:11--  https://raw.githubusercontent.com/amephraim/nlp/master/texts/J.%20K.%20Rowling%20-%20Harry%20Potter%201%20-%20Sorcerer's%20Stone.txt\n",
            "Resolving raw.githubusercontent.com (raw.githubusercontent.com)... 185.199.111.133, 185.199.108.133, 185.199.109.133, ...\n",
            "Connecting to raw.githubusercontent.com (raw.githubusercontent.com)|185.199.111.133|:443... connected.\n",
            "HTTP request sent, awaiting response... 200 OK\n",
            "Length: 439742 (429K) [text/plain]\n",
            "Saving to: ‘J. K. Rowling - Harry Potter 1 - Sorcerer's Stone.txt’\n",
            "\n",
            "J. K. Rowling - Har 100%[===================>] 429.44K  --.-KB/s    in 0.006s  \n",
            "\n",
            "2022-11-12 05:04:11 (70.8 MB/s) - ‘J. K. Rowling - Harry Potter 1 - Sorcerer's Stone.txt’ saved [439742/439742]\n",
            "\n",
            "--2022-11-12 05:04:11--  https://raw.githubusercontent.com/amephraim/nlp/master/texts/J.%20K.%20Rowling%20-%20Harry%20Potter%202%20-%20The%20Chamber%20Of%20Secrets.txt\n",
            "Resolving raw.githubusercontent.com (raw.githubusercontent.com)... 185.199.110.133, 185.199.108.133, 185.199.109.133, ...\n",
            "Connecting to raw.githubusercontent.com (raw.githubusercontent.com)|185.199.110.133|:443... connected.\n",
            "HTTP request sent, awaiting response... 200 OK\n",
            "Length: 492130 (481K) [text/plain]\n",
            "Saving to: ‘J. K. Rowling - Harry Potter 2 - The Chamber Of Secrets.txt’\n",
            "\n",
            "J. K. Rowling - Har 100%[===================>] 480.60K  --.-KB/s    in 0.004s  \n",
            "\n",
            "2022-11-12 05:04:12 (122 MB/s) - ‘J. K. Rowling - Harry Potter 2 - The Chamber Of Secrets.txt’ saved [492130/492130]\n",
            "\n",
            "--2022-11-12 05:04:12--  https://raw.githubusercontent.com/amephraim/nlp/master/texts/J.%20K.%20Rowling%20-%20Harry%20Potter%203%20-%20Prisoner%20of%20Azkaban.txt\n",
            "Resolving raw.githubusercontent.com (raw.githubusercontent.com)... 185.199.108.133, 185.199.109.133, 185.199.110.133, ...\n",
            "Connecting to raw.githubusercontent.com (raw.githubusercontent.com)|185.199.108.133|:443... connected.\n",
            "HTTP request sent, awaiting response... 200 OK\n",
            "Length: 611601 (597K) [text/plain]\n",
            "Saving to: ‘J. K. Rowling - Harry Potter 3 - Prisoner of Azkaban.txt’\n",
            "\n",
            "J. K. Rowling - Har 100%[===================>] 597.27K  --.-KB/s    in 0.004s  \n",
            "\n",
            "2022-11-12 05:04:12 (155 MB/s) - ‘J. K. Rowling - Harry Potter 3 - Prisoner of Azkaban.txt’ saved [611601/611601]\n",
            "\n",
            "--2022-11-12 05:04:12--  https://raw.githubusercontent.com/amephraim/nlp/master/texts/J.%20K.%20Rowling%20-%20Harry%20Potter%204%20-%20The%20Goblet%20of%20Fire.txt\n",
            "Resolving raw.githubusercontent.com (raw.githubusercontent.com)... 185.199.108.133, 185.199.109.133, 185.199.110.133, ...\n",
            "Connecting to raw.githubusercontent.com (raw.githubusercontent.com)|185.199.108.133|:443... connected.\n",
            "HTTP request sent, awaiting response... 200 OK\n",
            "Length: 1109179 (1.1M) [text/plain]\n",
            "Saving to: ‘J. K. Rowling - Harry Potter 4 - The Goblet of Fire.txt’\n",
            "\n",
            "J. K. Rowling - Har 100%[===================>]   1.06M  --.-KB/s    in 0.01s   \n",
            "\n",
            "2022-11-12 05:04:12 (85.0 MB/s) - ‘J. K. Rowling - Harry Potter 4 - The Goblet of Fire.txt’ saved [1109179/1109179]\n",
            "\n"
          ]
        }
      ],
      "source": [
        "# Clone attention modeling and training code needed for question 3\n",
        "!git clone https://github.com/optmlclass/PA2.git\n",
        "\n",
        "# get harry potter data (also for question 3)\n",
        "# !wget https://raw.githubusercontent.com/karpathy/char-rnn/master/data/tinyshakespeare/input.txt\n",
        "!wget \"https://raw.githubusercontent.com/amephraim/nlp/master/texts/J.%20K.%20Rowling%20-%20Harry%20Potter%201%20-%20Sorcerer's%20Stone.txt\"\n",
        "!wget \"https://raw.githubusercontent.com/amephraim/nlp/master/texts/J.%20K.%20Rowling%20-%20Harry%20Potter%202%20-%20The%20Chamber%20Of%20Secrets.txt\"\n",
        "!wget \"https://raw.githubusercontent.com/amephraim/nlp/master/texts/J.%20K.%20Rowling%20-%20Harry%20Potter%203%20-%20Prisoner%20of%20Azkaban.txt\"\n",
        "!wget \"https://raw.githubusercontent.com/amephraim/nlp/master/texts/J.%20K.%20Rowling%20-%20Harry%20Potter%204%20-%20The%20Goblet%20of%20Fire.txt\""
      ]
    },
    {
      "cell_type": "code",
      "execution_count": 2,
      "metadata": {
        "id": "eV3jEpEcUqOa"
      },
      "outputs": [],
      "source": [
        "import torch, torchvision\n",
        "import torchvision.transforms as transforms\n",
        "from torch.optim import Optimizer\n",
        "import math\n",
        "import numpy as np\n",
        "from tqdm import tqdm\n",
        "from matplotlib import pyplot as plt\n",
        "from collections.abc import Iterable\n",
        "\n",
        "# set up logging\n",
        "import logging\n",
        "logging.basicConfig(\n",
        "        format=\"%(asctime)s - %(levelname)s - %(name)s -   %(message)s\",\n",
        "        datefmt=\"%m/%d/%Y %H:%M:%S\",\n",
        "        level=logging.INFO,\n",
        ")\n",
        "\n",
        "# make deterministic\n",
        "from PA2.sequenceutils import set_seed\n",
        "set_seed(42)\n",
        "\n",
        "# imports for attention model\n",
        "# more imports\n",
        "from PA2.attentionmodel import GPT, GPTConfig\n",
        "from PA2.sequenceutils import sample, CharDataset\n",
        "from PA2.attentiontrainer import Trainer, TrainerConfig"
      ]
    },
    {
      "cell_type": "markdown",
      "metadata": {
        "id": "6WMcZz0xk1ff"
      },
      "source": [
        "# Warmup: Standard SGD"
      ]
    },
    {
      "cell_type": "markdown",
      "metadata": {
        "id": "jL5FoPbAlCyx"
      },
      "source": [
        "## SGD Implementation"
      ]
    },
    {
      "cell_type": "code",
      "execution_count": null,
      "metadata": {
        "id": "jprhL760UwwY"
      },
      "outputs": [],
      "source": [
        "# Basic SGD implementation for reference.\n",
        "# for base class, see https://github.com/pytorch/pytorch/blob/master/torch/optim/optimizer.py\n",
        "# for official pytorch SGD implementation, see https://github.com/pytorch/pytorch/blob/master/torch/optim/sgd.py\n",
        "\n",
        "class SGD(Optimizer):\n",
        "  def __init__(self, params, lr=1.0):\n",
        "    super(SGD, self).__init__(params, {'lr': lr})\n",
        "\n",
        "    # The params argument can be a list of pytorch variables, or\n",
        "    # a list of dicts. If it is a list of dicts, each dict should have \n",
        "    # a key 'params' that is a list of pytorch variables,\n",
        "    # and optionally another key 'lr' that specifies the learning rate\n",
        "    # for those variables. If 'lr' is not provided, the default value\n",
        "    # is the single value provided as an argument after params to this\n",
        "    # constructor.\n",
        "    # If params is just a list of pytorch variables, it is the same\n",
        "    # as if params were actually a list containing a single dictionary\n",
        "    # whose 'params' key value is the list of variables.\n",
        "    # See examples in following code blocks for use of params.\n",
        "\n",
        "    # Set up an iteration counter.\n",
        "    # self.state[p] is a python dict for each parameter p\n",
        "    # that can be used to store various state useful in the optimization\n",
        "    # algorithm. In this case, we simply store the iteration count, although\n",
        "    # it is not used in this simple algorithm.\n",
        "    for group in self.param_groups:\n",
        "      for p in group['params']:\n",
        "        state = self.state[p]\n",
        "        state['step'] = 0\n",
        "\n",
        "\n",
        "  @torch.no_grad()\n",
        "  def step(self, closure=None):\n",
        "    loss = None\n",
        "    # 'closure' is None for all optimizers we are going to implement in this assignment.\n",
        "    if closure is not None:\n",
        "      with torch.enable_grad():\n",
        "        loss = closure()\n",
        "\n",
        "    for group in self.param_groups:\n",
        "      lr = group['lr']\n",
        "\n",
        "      # it is common practice to call the model parameters p in code.\n",
        "      # in class we follow more closely analytical conventions, in which the\n",
        "      # parameters are often called w for weights.\n",
        "      for p in group['params']:\n",
        "        if p.grad is None:\n",
        "          continue\n",
        "        \n",
        "        # Update the iteration counter (again, this is not actually used in this algorithm)\n",
        "        state = self.state[p]\n",
        "        step = state['step']\n",
        "        step += 1\n",
        "        \n",
        "        # Perform the SGD update. p.grad holds the gradient of the loss\n",
        "        # with respect to p.\n",
        "        p.add_(p.grad, alpha=-lr)"
      ]
    },
    {
      "cell_type": "markdown",
      "metadata": {
        "id": "m3CTrcvelF1h"
      },
      "source": [
        "## Training Loop"
      ]
    },
    {
      "cell_type": "code",
      "execution_count": null,
      "metadata": {
        "colab": {
          "base_uri": "https://localhost:8080/",
          "height": 283
        },
        "id": "B7GJhIPkXICX",
        "outputId": "ce4d43dd-4dfe-420a-a0b6-04d469595978"
      },
      "outputs": [
        {
          "output_type": "display_data",
          "data": {
            "text/plain": [
              "<Figure size 432x288 with 1 Axes>"
            ],
            "image/png": "[encoded data removed]"
          },
          "metadata": {
            "needs_background": "light"
          }
        }
      ],
      "source": [
        "#Simple linear regression problem\n",
        "dimension = 10\n",
        "num_iter = 10000\n",
        "\n",
        "mean = torch.zeros(dimension)\n",
        "std = torch.ones(dimension)\n",
        "\n",
        "def loss_func(w_hat, b_hat, w_true, b_true):\n",
        "  # simple linear regression problem, although\n",
        "  # slightly non-standard loss. See pytorch docs\n",
        "  # for description of loss function.\n",
        "\n",
        "  # features\n",
        "  x = torch.normal(mean, std)\n",
        "\n",
        "  # true label is a linear function of features plus noise.\n",
        "  noise = np.random.normal(0.0, 0.01)\n",
        "  y_true = torch.dot(x, w_true) + b_true + noise\n",
        "\n",
        "  y_hat = torch.dot(x, w_hat) + b_hat\n",
        "\n",
        "  loss = torch.nn.SmoothL1Loss()\n",
        "  return loss(y_hat, y_true)\n",
        "\n",
        "\n",
        "# Set \"true\" parameter value to be a random normal vector with covariance 10*I\n",
        "w_true = 10*torch.normal(mean, std)\n",
        "\n",
        "# make true bias term quite large so that it is better\n",
        "# to have a high learning rate for the bias. This makes\n",
        "# it advantageous to use the params as a dict in the \n",
        "# following cell.\n",
        "b_true = torch.normal(torch.zeros(1), torch.ones(1))\n",
        "\n",
        "\n",
        "# declare variables that will actually be trained.\n",
        "# \"requires_grad\" tells pytorch that it may have to compute\n",
        "# gradients with respect to these variables so that it initialize the \n",
        "# relevant autograd data structures.\n",
        "w = torch.zeros(dimension, requires_grad=True)\n",
        "b = torch.zeros(1, requires_grad=True)\n",
        "\n",
        "optimizer = SGD([w, b], 0.010)\n",
        "\n",
        "losses = []\n",
        "\n",
        "for t in range(num_iter):\n",
        "\n",
        "  # \"zero_grad\" resets all variable.grad values to 0 and resets all\n",
        "  # intermediate data that might have been saved for a backwards pass.\n",
        "  # This is useful when variables need to be reused for many backward passes.\n",
        "  # Note that your PA1 autograd implementation did not need to have this\n",
        "  # functionality because the SGD you implemented just created  new\n",
        "  # variables every iteration. However, it is more efficient to reuse the\n",
        "  # memory from the original variable.\n",
        "  optimizer.zero_grad()\n",
        "\n",
        "  # Compute the loss function - this is the forward pass\n",
        "  loss = loss_func(w, b, w_true, b_true)\n",
        "\n",
        "  # loss.backward has essentially the same functionality as the .backward\n",
        "  # function you implemented in PA1.\n",
        "  # In detail, loss.backward computes param.grad for each parameter,\n",
        "  # and optimizer.step updates param.data for each parameter.\n",
        "  loss.backward()\n",
        "\n",
        "  optimizer.step()\n",
        "\n",
        "  losses.append(loss.item())\n",
        "\n",
        "plt.plot(losses)\n",
        "plt.ylabel('loss')\n",
        "plt.xlabel('iteration')\n",
        "plt.xscale('log')\n",
        "plt.yscale('log')\n",
        "plt.show()"
      ]
    },
    {
      "cell_type": "code",
      "execution_count": null,
      "metadata": {
        "colab": {
          "base_uri": "https://localhost:8080/",
          "height": 283
        },
        "id": "Fo8zvSzpbxgJ",
        "outputId": "49447896-6b01-4039-fa89-b11bcf535988"
      },
      "outputs": [
        {
          "output_type": "display_data",
          "data": {
            "text/plain": [
              "<Figure size 432x288 with 1 Axes>"
            ],
            "image/png": "[encoded data removed]"
          },
          "metadata": {
            "needs_background": "light"
          }
        }
      ],
      "source": [
        "w = torch.zeros(dimension, requires_grad=True)\n",
        "b = torch.zeros(1, requires_grad=True)\n",
        "param_groups = [{'params': [w], 'lr': 0.1}, {'params': [b], 'lr': 0.01}]\n",
        "optimizer = SGD(param_groups, 0.10)\n",
        "\n",
        "losses = []\n",
        "for t in range(num_iter):\n",
        "  optimizer.zero_grad()\n",
        "  loss = loss_func(w, b, w_true, b_true)\n",
        "  loss.backward()\n",
        "  optimizer.step()\n",
        "\n",
        "  losses.append(loss.item())\n",
        "\n",
        "plt.plot(losses)\n",
        "plt.ylabel('loss')\n",
        "plt.xlabel('iteration')\n",
        "plt.xscale('log')\n",
        "plt.yscale('log')\n",
        "plt.show()"
      ]
    },
    {
      "cell_type": "markdown",
      "metadata": {
        "id": "IgaaUrMPXCt5"
      },
      "source": [
        "Remarks\n",
        "\n",
        "1. What are these \"`p`\" values representing?\n",
        "\n",
        "In class, we frequently consider a single parameter $w$ to describe the model we are training, so that $w$ would represent all the weights in a neural network for example. However, in practice usually models are specified in a more modular manner. For example, we could have a linear model with a bias as:\n",
        "$$\n",
        "\\hat y = \\langle A, x\\rangle + B\n",
        "$$\n",
        "where $A\\in \\mathbb{R}^d$ is a weight vector and $B\\in\\mathbb{R}$ is a bias. For theoretical analyses, we might consider this model as parametrized by a single vector $w\\in \\mathbb{R}^{d+1}$, but when programming it is far simpler to have separate variables for $A$ and $B$. Just as in your previous programming assignment, the `A.grad` and `B.grad` variables will then be populated with  the partial derivatives of the overall loss with respect to $A$ and $B$. Thus, to implement a gradient based optimizer, we need to loop over all variables that were involved in specifying the model. `p` is the variable used to step through this loop, so in the linear model with bias example, `p` would take on both `A` and `B` as values.\n",
        "\n",
        "2. What does `@torch.no_grad` do? \n",
        "\n",
        "This tells the pytorch not to record gradient operations for anything that happens inside the function, so it will not be able to compute derivatives of these operations. However, this is important to enable because some operations (like performing an update) inherently should not be differentiated, and pytorch will thrown an error if you do not explicitly tell it that you do not want to differentiate through this operation.\n",
        "\n",
        "3. Why do we need `torch.enable_grad` when using the closure?\n",
        "\n",
        "Computing the closure (closure is essentially a fancy name for \"function\") is an alternative to providing the gradient to the optimization step. Instead, the loss $\\ell(w_t, z_t)$ is computed by the closure. However, the closure might need to compute some derivatives, so we turn on `torch.enable_grad`.\n",
        "\n",
        "4. Why do we use `p.add_` as opposed to `p = p - lr*grad`?\n",
        "\n",
        "All pytorch variables (and all python variables except for simple things like integers and chars for that matter) are essentially *pointers*. That is, `p` is a name for an area of computer memory that contains the data for some vector. This makes it fast to pass `p` around to various functions, but if we do `p = z`, this actually means that now `p` refers to the same memory location that `z` is referring to. This is a problem, because the original data has not been changed. `p.add_` instead will change the original data. If you are not familiar with this concept in programming, you may want to do some reading on pass-by-reference vs pass-by-value and pointers.\n",
        "\n",
        "\n",
        "\n"
      ]
    },
    {
      "cell_type": "markdown",
      "metadata": {
        "id": "dF5yZby-iG7b"
      },
      "source": [
        "# PART 1: Per-Variable AdaGrad\n"
      ]
    },
    {
      "cell_type": "markdown",
      "metadata": {
        "id": "l315KMmyiFGA"
      },
      "source": [
        "## QUESTION 1 (10pt)\n",
        "\n",
        "1. Fill out the class below to implement a version of SGD that sets the \"adaptive\" learning rate on a per-pytorch variable basis:\n",
        "$$\n",
        "\\eta_t[p] = \\frac{lr}{\\sqrt{G_t[p]}}\n",
        "$$\n",
        "$lr$ (for \"learning rate\") is provided as input to the algorithm, $t$ is the current iteration count, and\n",
        "$$\n",
        "G_t[p] = \\sum_{i=1}^t \\|\\nabla \\ell(w_i, z_i)[p]\\|^2\n",
        "$$\n",
        "where here $p$ indicates a pytorch variable object (which could be a high-dimensional vector), and $\\nabla \\ell(w_t, z_t)[p]$ indicates the partial derivative with respect to $p$ (i.e. the coordinates of the gradient corresponding to $p$).\n",
        "If you are familiar with the AdaGrad update, note that this is NOT the same because AdaGrad uses a *per-coordinate* learning rate, while we use a *per-variable* learning rate. For very large models in which memory is at a premium, this kind of change can reduce the memory required by the optimizer while still preserving some of the adaptive properties of AdaGrad.\n",
        "\n",
        "Read the `__init__` method carefully as it has changed slightly from the original `SGD` class above."
      ]
    },
    {
      "cell_type": "code",
      "execution_count": null,
      "metadata": {
        "id": "1BZwfQwgf-i7"
      },
      "outputs": [],
      "source": [
        "class SGD_adaptive(Optimizer):\n",
        "  def __init__(self, params, lr=1.0):\n",
        "    super(SGD_adaptive, self).__init__(params, {'lr': lr})\n",
        "\n",
        "    for group in self.param_groups:\n",
        "      for p in group['params']:\n",
        "        state = self.state[p]\n",
        "        state['step'] = 0\n",
        "\n",
        "        # make a dictionary entry for Gt. It is just a 1-D vector (a scalar).\n",
        "        # device=p.device tells pytorch to allocate the memory for Gt on the \n",
        "        # same device (e.g. CPU or GPU) as the data for the variable p.\n",
        "        state['Gt'] = torch.zeros(1, device=p.device)\n",
        "\n",
        "  @torch.no_grad()\n",
        "  def step(self, closure=None):\n",
        "    loss = None\n",
        "    if closure is not None:\n",
        "      with torch.enable_grad():\n",
        "        loss = closure()\n",
        "\n",
        "    for group in self.param_groups:\n",
        "      lr = group['lr']\n",
        "      for p in group['params']:\n",
        "        if p.grad is None:\n",
        "          continue\n",
        "        \n",
        "        ####### YOUR CODE HERE ########\n",
        "        self.state[p]['Gt'] += torch.linalg.norm(p.grad)\n",
        "        self.state[p]['step'] += 1\n",
        "        e_lr = lr/torch.sqrt(self.state[p]['Gt'])\n",
        "        p.add_(p.grad, alpha=-e_lr.item())\n",
        "        "
      ]
    },
    {
      "cell_type": "code",
      "execution_count": null,
      "metadata": {
        "colab": {
          "base_uri": "https://localhost:8080/",
          "height": 283
        },
        "id": "AVFwzCFUcewz",
        "outputId": "875a4246-5297-43a8-e6b2-fe6f8a7672fc"
      },
      "outputs": [
        {
          "output_type": "display_data",
          "data": {
            "text/plain": [
              "<Figure size 432x288 with 1 Axes>"
            ],
            "image/png": "[encoded data removed]"
          },
          "metadata": {
            "needs_background": "light"
          }
        }
      ],
      "source": [
        "w = torch.zeros(dimension, requires_grad=True)\n",
        "b = torch.zeros(1, requires_grad=True)\n",
        "optimizer = SGD_adaptive([w, b], 1.0)\n",
        "losses = []\n",
        "for t in range(num_iter):\n",
        "  optimizer.zero_grad()\n",
        "  loss = loss_func(w, b, w_true, b_true)\n",
        "  loss.backward()\n",
        "  optimizer.step()\n",
        "\n",
        "  losses.append(loss.item())\n",
        "\n",
        "plt.plot(losses)\n",
        "plt.ylabel('loss')\n",
        "plt.xlabel('iteration')\n",
        "plt.xscale('log')\n",
        "plt.yscale('log')\n",
        "plt.show()"
      ]
    },
    {
      "cell_type": "markdown",
      "metadata": {
        "id": "owhhpRSrSCJr"
      },
      "source": [
        "See https://pytorch.org/tutorials/beginner/blitz/cifar10_tutorial.html#sphx-glr-beginner-blitz-cifar10-tutorial-py for some similar example of how to set up the process below, from which much of this was copied."
      ]
    },
    {
      "cell_type": "code",
      "execution_count": null,
      "metadata": {
        "colab": {
          "base_uri": "https://localhost:8080/"
        },
        "id": "JM_sfJdXgkUq",
        "outputId": "5805ea79-9ba6-4c94-9fc4-064604623337"
      },
      "outputs": [
        {
          "output_type": "stream",
          "name": "stdout",
          "text": [
            "Files already downloaded and verified\n"
          ]
        }
      ],
      "source": [
        "## These commands create two pytorch \"DataLoader\" objects, one for training\n",
        "# data and one for testing data.\n",
        "# A DataLoader object is essentially a list of training/testing examples with\n",
        "# some extra code attached by pytorch that can send the data to GPUs.\n",
        "\n",
        "# The following three commands produce a torchvision dataset object for both\n",
        "# training and testing data on the CIFAR10 dataset, which is a dataset of images.\n",
        "# these objects are like lists of vectors (the \"transform\" specifies a function\n",
        "# that converts images to vectors).\n",
        "transform = transforms.Compose(\n",
        "    [transforms.ToTensor(),\n",
        "     transforms.Normalize((0.5, 0.5, 0.5), (0.5, 0.5, 0.5))])\n",
        "CIFAR_train = torchvision.datasets.CIFAR10(root='CIFAR10/', train=True, download=True, transform=transform)\n",
        "CIFAR_test = torchvision.datasets.CIFAR10(root='CIFAR10/', train=False, transform=transform)\n",
        "\n",
        "\n",
        "# The next two lines produce the actual DataLoaders. The batch_size argument sets\n",
        "# the batch size, so that the DataLoader will appear like a list [a,b,c...] where\n",
        "# each entry of the list is a batch of batch_size examples. \n",
        "# Setting shuffle=True makes it so that when you start iterating over the examples\n",
        "# in the DataLoader, it will first shuffle the order of the list.\n",
        "trainloader = torch.utils.data.DataLoader(CIFAR_train, batch_size=16,\n",
        "                                          shuffle=True)\n",
        "testloader = torch.utils.data.DataLoader(CIFAR_test, batch_size=256,\n",
        "                                          shuffle=True)"
      ]
    },
    {
      "cell_type": "code",
      "execution_count": null,
      "metadata": {
        "colab": {
          "base_uri": "https://localhost:8080/"
        },
        "id": "IcoCaPmQhBra",
        "outputId": "c58abedd-4f8e-4cc9-c3bf-8a774b4830e1"
      },
      "outputs": [
        {
          "output_type": "stream",
          "name": "stdout",
          "text": [
            "cuda:0\n"
          ]
        }
      ],
      "source": [
        "device = torch.device(\"cuda:0\" if torch.cuda.is_available() else \"cpu\")\n",
        "\n",
        "# Assuming that we are on a CUDA machine, this should print a CUDA device:\n",
        "print(device)\n"
      ]
    },
    {
      "cell_type": "markdown",
      "metadata": {
        "id": "6qNCQEnkhuQk"
      },
      "source": [
        "## QUESTION 2\n",
        "\n",
        "Function `train_renset` implements the training loop. It loops over the entire dataset multiple time, and each pass is called an \"epoch\". At the beginning of each pass, the entire training data is shuffled and partitioned into mini-batches, and we will loop over every batch $i=1,\\ldots,\\lceil \\frac{N}{b} \\rceil$, where $N$ denotes the size of training data, and $b$ denote the batch size. \n",
        "\n",
        "In this problem, you will need to implement part of `train_resnet` inside the inner loop over mini-batches. "
      ]
    },
    {
      "cell_type": "markdown",
      "metadata": {
        "id": "5wHGSAS44yhE"
      },
      "source": [
        "### 2a (5pt)\n",
        "\n",
        "In each iteration $i$, let $z_i=(x_i, y_i)$ be $i$-th data batch, where $x_i=(x_i^1,\\ldots,x_i^b)$ is the list of features and $y_i=(y_i^1,\\ldots,y_i^b)$ is the list of labels. You need to compute the cross entropy loss $\\ell(w_i,z_i)$, plus an L2 regularization (otherwise known as \"weight decay\") term to generate the full loss function: $$\\bar\\ell(x_i, z_i) =\\ell(w_i, z_i)+ \\frac{\\lambda}{2}\\|w_i\\|^2$$. In the code, $\\lambda$ is stored in the variable `wd` (partly because `lambda` is a special keyword in python).\n",
        "\n",
        "See [here](https://pytorch.org/docs/stable/generated/torch.nn.CrossEntropyLoss.html?highlight=loss#torch.nn.CrossEntropyLoss) for `torch.nn.CrossEntropyLoss`."
      ]
    },
    {
      "cell_type": "markdown",
      "metadata": {
        "id": "GiCY7NGp41lq"
      },
      "source": [
        "### 2b (5pt)\n",
        "\n",
        "In this part, you need to call the optimizer and make a step w.r.t. the regularized loss $\\bar\\ell(w_i,z_i)$. *Hint: see the training loop for SGD as a reference*."
      ]
    },
    {
      "cell_type": "code",
      "execution_count": null,
      "metadata": {
        "id": "UQsA0rWgQrUn"
      },
      "outputs": [],
      "source": [
        "## Please read the function signatures and doc string for \"train_resnet\" function.\n",
        "# You do not need to otherwise understand how it works to do this homework. ##\n",
        "\n",
        "def adjust_learning_rate(optimizer, lr):\n",
        "    for param_group in optimizer.param_groups:\n",
        "        param_group['lr'] = lr\n",
        "\n",
        "def train_resnet(optimizer, train_loader, device, lrs, wd=0.01, model=None):\n",
        "  '''\n",
        "  Trains a resnet model on CIFAR10 data.\n",
        "\n",
        "  args:\n",
        "    optimizer: optimizer class that will be instantiated inside this function.\n",
        "    train_loader: pytorch DataLoader object that provides the training examples.\n",
        "    device: pytorch device to use (e.g. a GPU).\n",
        "    lrs: list of learning rates. The length of the list is the number of epochs\n",
        "      to train for. At the start of the ith epoch, the 'lr' parameter of the\n",
        "      optimizer will be set to lrs[i].\n",
        "    wd: l2 regularization constant.\n",
        "    model: can provide a preset pytorch model to train from a checkpoint. If \n",
        "      None, will instantiate a fresh resnet18 model.\n",
        "\n",
        "  returns:\n",
        "    the trained pytorch model object.\n",
        "  '''\n",
        "\n",
        "  if model is None:\n",
        "    model = torchvision.models.resnet18(pretrained=False)\n",
        "  model.to(device)\n",
        "\n",
        "\n",
        "  # define \\ell as the cross-entropy function.\n",
        "  # this function as implemented in pytorch actually combines both the softmax\n",
        "  # and the cross entropy function into one. As a result, it is\n",
        "  # is non-negative, smooth, Lipschitz, and convex in its argument, which\n",
        "  # are the predicted scores for various classes output by some model.\n",
        "  # Note that this does NOT necessarily imply that it has these properties\n",
        "  # with respect to the parameters of the model.\n",
        "  cross_entropy_loss = torch.nn.CrossEntropyLoss()\n",
        "\n",
        "  optimizer = SGD_adaptive(model.parameters(), lrs[0])\n",
        "\n",
        "  num_epochs = len(lrs)\n",
        "\n",
        "  average_loss = 0.0\n",
        "\n",
        "  for epoch, lr in enumerate(lrs):\n",
        "    # iterate over training set. One full pass over the training set is called\n",
        "    # an \"epoch\". The number of epochs equals to the length of list 'lrs'.\n",
        "\n",
        "    # manually set learning rate at the beginning of each epoch.\n",
        "    adjust_learning_rate(optimizer, lr)\n",
        "\n",
        "    # external progress bar library\n",
        "    pbar = tqdm(enumerate(train_loader), total=len(train_loader))\n",
        "\n",
        "    for it, data in pbar:\n",
        "      # 'it' is index of example, 'data' is the example (e.g. z_i).\n",
        "      # because shuffle=True when defining the trainloader,\n",
        "      # the training set is shuffled after every complete pass.\n",
        "\n",
        "      # unpack the example data: inputs is a batch of images,\n",
        "      # labels is a batch of labels.\n",
        "      inputs, labels = data\n",
        "      inputs = inputs.to(device)\n",
        "      labels = labels.to(device)\n",
        "\n",
        "      # pytorch will keep details from old gradients around in case you are going\n",
        "      # to differentiate something else. We therefore need to delete this old\n",
        "      # data before computing the loss so that we only have the gradient\n",
        "      # for this iteration.\n",
        "      optimizer.zero_grad()\n",
        "\n",
        "      # compute labels from model. This will be a tensor of shape [B, C] where B is the \n",
        "      # batch size and C is the number of classes. Each row will contain scores for \n",
        "      # each class, where higher score indicates that the model believe the corresponding\n",
        "      # class is correct.\n",
        "      predicted_labels = model.forward(inputs)\n",
        "\n",
        "\n",
        "      # get the list of parameters in the neural network. This list will\n",
        "      # contain all the weight and bias tensors.\n",
        "      parameters = list(model.parameters())\n",
        "      \n",
        "      ### YOUR CODE HERE (2a) ###\n",
        "      # In this part, you need to implement the regularized loss \\ell(w_i,z_i) + wd/2 * ||w_i||^2.\n",
        "      # You should name your final result as 'regularized_loss'.\n",
        "      # You may wish to use the `cross_entropy_loss` layer defined above. See the\n",
        "      # docs for the CrossEntropyLoss pytorch function to see how to apply it.\n",
        "\n",
        "      pl = 0\n",
        "      for par in parameters:\n",
        "          pl =pl +  wd/2*torch.linalg.norm(par.data) ** 2\n",
        "      regularized_loss = cross_entropy_loss(predicted_labels, labels) + pl\n",
        "\n",
        "\n",
        "      ### YOUR CODE HERE (2b) ###\n",
        "      # In this part, you need to call the optimizer and make a step\n",
        "      # w.r.t. the regularized_loss.\n",
        "      # loss = regularized_loss\n",
        "      regularized_loss.backward()\n",
        "      optimizer.step()\n",
        "      #raise NotImplementedError\n",
        "\n",
        "      # update average loss\n",
        "      average_loss += (loss.item() - average_loss)/(it+1)\n",
        "\n",
        "      pbar.set_description(f\"epoch {epoch + 1} iter {it + 1}: train loss {average_loss:.5f}.\")\n",
        "\n",
        "    average_loss = 0.0\n",
        "\n",
        "  print('\\nFinished Training')\n",
        "\n",
        "  return model\n"
      ]
    },
    {
      "cell_type": "code",
      "execution_count": null,
      "metadata": {
        "colab": {
          "base_uri": "https://localhost:8080/"
        },
        "id": "6ZEClnnmfy7f",
        "outputId": "cb681203-4885-47d0-b2fd-a5a9e0b44499"
      },
      "outputs": [
        {
          "output_type": "stream",
          "name": "stderr",
          "text": [
            "epoch 1 iter 3125: train loss 0.00000.: 100%|██████████| 3125/3125 [01:22<00:00, 37.77it/s]\n",
            "epoch 2 iter 3125: train loss 0.00000.: 100%|██████████| 3125/3125 [01:22<00:00, 37.66it/s]\n",
            "epoch 3 iter 3125: train loss 0.00000.: 100%|██████████| 3125/3125 [01:23<00:00, 37.46it/s]"
          ]
        },
        {
          "output_type": "stream",
          "name": "stdout",
          "text": [
            "\n",
            "Finished Training\n"
          ]
        },
        {
          "output_type": "stream",
          "name": "stderr",
          "text": [
            "\n"
          ]
        }
      ],
      "source": [
        "## Train the model for 3 epochs using a learning rate of 0.1 in each epoch.\n",
        "## If this fails, you probably have a significant bug in your SGD code.\n",
        "## Each epoch should take < 5 minutes, for a total of at most 15 minutes.\n",
        "trained_model = train_resnet(SGD_adaptive, trainloader, device, lrs=[0.1, 0.1, 0.1])"
      ]
    },
    {
      "cell_type": "code",
      "execution_count": null,
      "metadata": {
        "id": "rbHMj8JOm52O"
      },
      "outputs": [],
      "source": [
        "# These functions take input a trained model and return either the train or\n",
        "# test accuracy.\n",
        "def get_train_accuracy(trained_model):\n",
        "  correct = 0\n",
        "  total = 0\n",
        "  with torch.no_grad():\n",
        "    trainloader = torch.utils.data.DataLoader(CIFAR_train, batch_size=256, num_workers=2)\n",
        "    for data in trainloader:\n",
        "      images, labels = data\n",
        "      images = images.to(device)\n",
        "      labels = labels.to(device)\n",
        "      outputs = trained_model(images)\n",
        "      _, predicted = torch.max(outputs.data, 1)\n",
        "      total += labels.size(0)\n",
        "      correct += (predicted == labels).sum().item()\n",
        "  return 100 * correct / total\n",
        "\n",
        "def get_test_accuracy(trained_model):\n",
        "  correct = 0\n",
        "  total = 0\n",
        "  with torch.no_grad():\n",
        "    testloader = torch.utils.data.DataLoader(CIFAR_test, batch_size=256, num_workers=2)\n",
        "    for data in testloader:\n",
        "      images, labels = data\n",
        "      images = images.to(device)\n",
        "      labels = labels.to(device)\n",
        "      outputs = trained_model(images)\n",
        "      _, predicted = torch.max(outputs.data, 1)\n",
        "      total += labels.size(0)\n",
        "      correct += (predicted == labels).sum().item()\n",
        "  return 100 * correct / total"
      ]
    },
    {
      "cell_type": "code",
      "execution_count": null,
      "metadata": {
        "colab": {
          "base_uri": "https://localhost:8080/"
        },
        "id": "lFBWPlufSliV",
        "outputId": "a49d5570-efd0-4fea-923b-8c2e9693b8d9"
      },
      "outputs": [
        {
          "output_type": "stream",
          "name": "stdout",
          "text": [
            "test accuracy percentage:  54.65\n"
          ]
        }
      ],
      "source": [
        "## Print the test accuracy. The test accuracy should be ~50% because the learning\n",
        "## rate of 0.1 used earlier is not a good learning rate.\n",
        "test_accuracy = get_test_accuracy(trained_model)\n",
        "print(\"test accuracy percentage: \", test_accuracy)"
      ]
    },
    {
      "cell_type": "markdown",
      "metadata": {
        "id": "_ccDYE29-WJ7"
      },
      "source": [
        "## QUESTION 3"
      ]
    },
    {
      "cell_type": "markdown",
      "metadata": {
        "id": "ft9XCePWpHqE"
      },
      "source": [
        "### 3a (10pt)\n",
        "\n",
        "In the previous section, we choose the learning rates to be 0.1 in all three epochs, which leads to ~50% test accuracy after 3 epochs of training. In this part, tune the learning rate schedules to get the best test performance at batch size 16. You should get close to or better than 70%.\n",
        "\n",
        "Note: \n",
        "With batch size 16, each epoch should take < 5 minutes (for a total of 15 minutes).\n",
        "\n",
        "Hint:\n",
        "- A common practice for tuning learning rates is grid search. You can make a list of candidates (typically in log scale, e.g., `[1,0.1,0.01,0.001]`) and then choose the best learning rate among them.\n",
        "- For this problem, you can assume that the learning rates for later epochs is always less than or equal to the learning rates for earlier epochs, i.e., $\\eta_{t+1} \\le \\eta_t$. You can also assume that $\\eta_{t+1} \\geq \\eta_t/10$. These are also common choices in practice."
      ]
    },
    {
      "cell_type": "code",
      "execution_count": null,
      "metadata": {
        "id": "hjSH4rPceb5J"
      },
      "outputs": [],
      "source": [
        "# This function returns a DataLoader object for the training set that uses\n",
        "# the provided argument as a batch size.\n",
        "def get_trainloader(batch_size):\n",
        "  trainloader = torch.utils.data.DataLoader(\n",
        "      CIFAR_train, batch_size=batch_size, shuffle=True)\n",
        "  return trainloader"
      ]
    },
    {
      "cell_type": "code",
      "execution_count": null,
      "metadata": {
        "id": "1gFCeiVB-tD9"
      },
      "outputs": [],
      "source": [
        "# Optional utils functions for saving and loading models\n",
        "def save_model(model, model_name):\n",
        "    torch.save(model.state_dict(), f'{model_name}.pth')\n",
        "\n",
        "def load_model(model_name):\n",
        "    state_dict = torch.load(f'{model_name}.pth')\n",
        "    model = torchvision.models.resnet18(pretrained=False)\n",
        "    model.load_state_dict(state_dict)\n",
        "    return model"
      ]
    },
    {
      "cell_type": "code",
      "execution_count": null,
      "metadata": {
        "id": "zcfsvKefdH1U"
      },
      "outputs": [],
      "source": [
        "### TUNE LEARNING RATE SCHEDULE HERE ###\n",
        "# all you need to do is fill out lrs with appropriate values,\n",
        "# the difficulty is finding those values.\n",
        "lrs = [0.1, 0.01, 0.001]"
      ]
    },
    {
      "cell_type": "code",
      "execution_count": null,
      "metadata": {
        "colab": {
          "base_uri": "https://localhost:8080/"
        },
        "id": "JbwwhpNF6gEk",
        "outputId": "5c32a25a-ff9c-4b7e-ad39-7c7447210b3d"
      },
      "outputs": [
        {
          "output_type": "stream",
          "name": "stderr",
          "text": [
            "epoch 1 iter 3125: train loss 0.00000.: 100%|██████████| 3125/3125 [01:26<00:00, 36.20it/s]\n",
            "epoch 2 iter 3125: train loss 0.00000.: 100%|██████████| 3125/3125 [01:25<00:00, 36.37it/s]\n",
            "epoch 3 iter 3125: train loss 0.00000.: 100%|██████████| 3125/3125 [01:25<00:00, 36.66it/s]"
          ]
        },
        {
          "output_type": "stream",
          "name": "stdout",
          "text": [
            "\n",
            "Finished Training\n"
          ]
        },
        {
          "output_type": "stream",
          "name": "stderr",
          "text": [
            "\n"
          ]
        },
        {
          "output_type": "stream",
          "name": "stdout",
          "text": [
            "[batch size 16] test accuracy: 66\n"
          ]
        }
      ],
      "source": [
        "batch_size_list = [16, 64, 256, 1024]\n",
        "trained_models = {16: None, 64: None, 256: None, 1024: None}\n",
        "\n",
        "trainloader = get_trainloader(batch_size=16)\n",
        "trained_models[16] = train_resnet(\n",
        "    SGD_adaptive, trainloader, device, lrs=lrs)\n",
        "\n",
        "# Print the test accuracy.\n",
        "# Your test accuracy should be close to or better than 70%.\n",
        "test_accuracy = get_test_accuracy(trained_models[16])\n",
        "print(\"[batch size %d] test accuracy: %d\" % (16, test_accuracy))"
      ]
    },
    {
      "cell_type": "code",
      "execution_count": null,
      "metadata": {
        "colab": {
          "base_uri": "https://localhost:8080/"
        },
        "id": "1M6vtfBEq_xG",
        "outputId": "a6403d0a-35f7-4bd1-ce32-5a2deee84d43"
      },
      "outputs": [
        {
          "output_type": "stream",
          "name": "stdout",
          "text": [
            "[batch size 16] test accuracy: 66\n"
          ]
        }
      ],
      "source": [
        "# Print the test accuracy.\n",
        "# Your test accuracy should be close to or better than 70%.\n",
        "test_accuracy = get_test_accuracy(trained_models[16])\n",
        "print(\"[batch size %d] test accuracy: %d\" % (16, test_accuracy))"
      ]
    },
    {
      "cell_type": "markdown",
      "metadata": {
        "id": "axJ5C7xjrUhb"
      },
      "source": [
        "### 3b (10pt)\n",
        "\n",
        "For each batch size in `[16, 64, 256, 1024]`, we populate the dictionary `trained_models` with a model trained using that batch size for three epochs using `train_resnet`, the `SGD_adaptive` algorithm, and the learning rates you tuned in 2a.\n",
        "\n",
        "When you run the code, you should observe that for larger batch size, (1) the performance is worse and (2) the running time is shorter. Briefly explain the two observations.\n",
        "\n",
        "**Answer:**\n",
        "\n",
        "1. (Performance)\n",
        "When batch size increase, accuracy will decrease. When batch size increase, opmizer will update fewer times in each epoch, the model will not converge to the ideal point under same epoch number and learning rate.\n",
        "\n",
        "2. (Running time)\n",
        "When batch size increase, running time will decrease because GPU is good to handle muti same processes in the same time."
      ]
    },
    {
      "cell_type": "code",
      "execution_count": null,
      "metadata": {
        "colab": {
          "base_uri": "https://localhost:8080/"
        },
        "id": "aMG7M0pyYY8M",
        "outputId": "7aa7185e-4274-4a7c-96d5-a36607dd13a1"
      },
      "outputs": [
        {
          "output_type": "stream",
          "name": "stderr",
          "text": [
            "epoch 1 iter 782: train loss 0.00000.: 100%|██████████| 782/782 [00:34<00:00, 22.71it/s]\n",
            "epoch 2 iter 782: train loss 0.00000.: 100%|██████████| 782/782 [00:34<00:00, 22.40it/s]\n",
            "epoch 3 iter 782: train loss 0.00000.: 100%|██████████| 782/782 [00:33<00:00, 23.38it/s]\n"
          ]
        },
        {
          "output_type": "stream",
          "name": "stdout",
          "text": [
            "\n",
            "Finished Training\n"
          ]
        },
        {
          "output_type": "stream",
          "name": "stderr",
          "text": [
            "epoch 1 iter 196: train loss 0.00000.: 100%|██████████| 196/196 [00:19<00:00, 10.01it/s]\n",
            "epoch 2 iter 196: train loss 0.00000.: 100%|██████████| 196/196 [00:20<00:00,  9.64it/s]\n",
            "epoch 3 iter 196: train loss 0.00000.: 100%|██████████| 196/196 [00:19<00:00, 10.10it/s]\n"
          ]
        },
        {
          "output_type": "stream",
          "name": "stdout",
          "text": [
            "\n",
            "Finished Training\n"
          ]
        },
        {
          "output_type": "stream",
          "name": "stderr",
          "text": [
            "epoch 1 iter 49: train loss 0.00000.: 100%|██████████| 49/49 [00:16<00:00,  2.95it/s]\n",
            "epoch 2 iter 49: train loss 0.00000.: 100%|██████████| 49/49 [00:16<00:00,  3.06it/s]\n",
            "epoch 3 iter 49: train loss 0.00000.: 100%|██████████| 49/49 [00:16<00:00,  2.94it/s]"
          ]
        },
        {
          "output_type": "stream",
          "name": "stdout",
          "text": [
            "\n",
            "Finished Training\n"
          ]
        },
        {
          "output_type": "stream",
          "name": "stderr",
          "text": [
            "\n"
          ]
        }
      ],
      "source": [
        "## With batch size 16, each epoch should take < 5 minutes (for a total of 15 minutes).\n",
        "## With batch size 64, < 2 minutes.\n",
        "## With batch size 256 and 1024, < 1 minute.\n",
        "for batch_size in batch_size_list[1:]:\n",
        "    trainloader = get_trainloader(batch_size)\n",
        "    trained_models[batch_size] = train_resnet(\n",
        "        SGD_adaptive, trainloader, device, lrs=lrs)"
      ]
    },
    {
      "cell_type": "code",
      "execution_count": null,
      "metadata": {
        "colab": {
          "base_uri": "https://localhost:8080/"
        },
        "id": "sRcHDkyi-lUT",
        "outputId": "75b6e3b6-09de-4fc6-85e1-5c9ba441efea"
      },
      "outputs": [
        {
          "output_type": "stream",
          "name": "stdout",
          "text": [
            "[batch size 16] train accuracy: 70 , test accuracy: 66\n",
            "[batch size 64] train accuracy: 71 , test accuracy: 64\n",
            "[batch size 256] train accuracy: 70 , test accuracy: 60\n",
            "[batch size 1024] train accuracy: 59 , test accuracy: 53\n"
          ]
        }
      ],
      "source": [
        "for batch_size in batch_size_list:\n",
        "  test_accuracy = get_test_accuracy(trained_models[batch_size])\n",
        "  train_accuracy = get_train_accuracy(trained_models[batch_size])\n",
        "  print(\"[batch size %d] train accuracy: %d , test accuracy: %d\" % (batch_size, train_accuracy, test_accuracy))"
      ]
    },
    {
      "cell_type": "markdown",
      "metadata": {
        "id": "c7-22PKTRal_"
      },
      "source": [
        "# PART 2: AdamW and Norm-scaling\n",
        "\n",
        "The next part of this homework assignment investigates implementing some variants of Adam. We will be testing your optimizers on a simplified implementation of [GPT](https://github.com/openai/gpt-3) based on the [minGPT](https://github.com/karpathy/minGPT) repository by Andrej Karpathy. This is a model that takes as input a sequence of 128 characters from a text file and attempts to predict the next character. This can be used to generate novel text by starting with a seed text string, and then repeatedly using the model to generate another character.\n",
        "\n",
        "\n",
        "# Tips\n",
        "* You will need a GPU for this assignment. When using google colab, go to runtime->change runtime type and make sure that the type is set to GPU.\n",
        "\n",
        "* You may decrease the number of training epochs while debugging, but please set it back to 20 and run again before submission.\n",
        "\n",
        "* Study the provided AdaGrad implementation closely, it introduces a few pytorch functions that may be useful. You should check the documentation for these functions to see what they do.\n",
        "\n",
        "* You may occasionally need to restart the runtime (runtime->restart runtime). Sometimes the GPUs don't release memory properly, and sometimes the progress bars get a little messed up."
      ]
    },
    {
      "cell_type": "markdown",
      "metadata": {
        "id": "wkPmrmHQPdtO"
      },
      "source": [
        "## QUESTION 4a (10pt)\n",
        "\n",
        "Implement the [AdamW](https://openreview.net/pdf?id=Bkg6RiCqY7) update *without* using the debiasing terms. AdamW performs the following (**per-coordinate**) update:\n",
        "\n",
        "$$\n",
        "w_{t+1} = w_t - \\eta_t\\left(\\frac{\\hat m_t}{\\sqrt{\\hat v_t} +\\epsilon} + \\lambda w_t\\right)\n",
        "$$\n",
        "where $\\hat m_t$ and $\\hat v_t$ are generated the same way as in the standard [Adam](https://openreview.net/pdf?id=Bkg6RiCqY7) update, and $\\lambda$ is an extra \"weight decay\" parameter provided to the optimizer and $\\eta_t$ is the learning rate parameter provided to the optimizer by the user.\n",
        "\n",
        "Ordinarily, \"weight decay\" is another word for L2 regularization. That is, the loss is modified to:\n",
        "$$\n",
        "\\mathcal{L}(w) + \\frac{\\lambda}{2}\\|w\\|^2\n",
        "$$\n",
        "This means that we could implement weight decay by changing the gradient to $\\nabla \\mathcal{L}(w) + \\lambda w$. The idea behind AdamW is that the weight-decay term is in some sense \"well-understood\" and should not be included in the $v_t$ and $A_t$ statistics that are being used to understand the more mysterious loss surface $\\mathcal{L}(w)$. See the linked paper for more details and full pseudocode.\n",
        "\n",
        "In your implementation, you should use the raw $m_t$ and $v_t$ values without applying the debiasing terms discussed in the papers and class. That is, you should implement the update:\n",
        "\n",
        "$$\n",
        "w_{t+1} = w_t - \\eta_t\\left(\\frac{m_t}{\\sqrt{v_t} +\\epsilon} + \\lambda w_t\\right)\n",
        "$$\n",
        "where $m_t$ and $v_t$ are as defined in the [linked paper](https://openreview.net/pdf?id=Bkg6RiCqY7).\n"
      ]
    },
    {
      "cell_type": "markdown",
      "metadata": {
        "id": "wP38enSOjF0Q"
      },
      "source": [
        "## QUESTION 4b (10pt)\n",
        "\n",
        "Upgrade your debias-free AdamW implementation to use the `use_norm_scaling` argument of the `__init__` method. When this argument is `True`, you should scale the learning rate by the norm of the weights *for the given pytorch variable*. That is, for each variable $p$ you will replace the learning rate $\\eta_t$ at time $t$ with $\\|p\\|\\eta_t$ in the update:\n",
        "$$\n",
        "w_{t+1}[i] = w_t[i] - \\|w_t\\|_2\\eta_t\\left(\\frac{m_t[i]}{\\sqrt{v_t[i]} +\\epsilon} + \\lambda w_t[i]\\right)\n",
        "$$\n",
        "When the `use_norm_scaling` argument is false, simply perform the update from question 1a.\n",
        "\n",
        "This learning rate heuristic is inspired by a similar proposal for use with normalized updates in the [LARS](https://arxiv.org/abs/1708.03888) optimizer."
      ]
    },
    {
      "cell_type": "code",
      "execution_count": null,
      "metadata": {
        "id": "3TAFPkUfSS70"
      },
      "outputs": [],
      "source": [
        "\n",
        "class AdamW_bias(Optimizer):\n",
        "  def __init__(self, params, lr=1.0, betas=(0.9,0.999), use_norm_scaling=False):\n",
        "    super(AdamW_bias, self).__init__(params, {'lr': lr, 'beta1': betas[0], 'beta2': betas[1], 'weight_decay': 0.0})\n",
        "\n",
        "    self.use_norm_scaling = use_norm_scaling\n",
        "\n",
        "    for group in self.param_groups:\n",
        "      for p in group['params']:\n",
        "        ## YOUR CODE HERE ##\n",
        "        state = self.state[p]\n",
        "        state['step'] = 0\n",
        "        d = len(p)\n",
        "        state['m'] = torch.zeros(p.shape, device = p.device)\n",
        "        state['v'] = torch.zeros(p.shape, device = p.device) \n",
        "        # raise NotImplementedError\n",
        "\n",
        "  @torch.no_grad()\n",
        "  def step(self, closure=None):\n",
        "    # in this class, and also usually in practice, closure will always be None.\n",
        "    loss = None\n",
        "    epsilon = 1e-8\n",
        "    if closure is not None:\n",
        "      with torch.enable_grad():\n",
        "        loss = closure()\n",
        "      \n",
        "    ## YOUR CODE HERE ##\n",
        "    for group in self.param_groups:\n",
        "      lr = group['lr']\n",
        "      beta1 = group['beta1']\n",
        "      beta2 = group['beta2']\n",
        "      weight_decay = group['weight_decay']\n",
        "      for p in group['params']:\n",
        "        if p.grad is None:\n",
        "          continue\n",
        "        state = self.state[p]\n",
        "        g = p.grad\n",
        "        state['step'] += 1\n",
        "        state['m'] = beta1 * state['m'] + (1 - beta1) * g\n",
        "        state['v'] = beta2 * state['v'] + (1 - beta2) * g**2\n",
        "        if self.use_norm_scaling:\n",
        "          p.add_(-lr*(state['m']/(torch.sqrt(state['v'])+epsilon) + weight_decay*p.data), alpha = torch.norm(p))\n",
        "        else:\n",
        "          p.add_(-lr*(state['m']/(torch.sqrt(state['v'])+epsilon) + weight_decay*p.data))\n",
        "\n"
      ]
    },
    {
      "cell_type": "code",
      "execution_count": null,
      "metadata": {
        "colab": {
          "base_uri": "https://localhost:8080/"
        },
        "id": "grKNXrsabE2z",
        "outputId": "db776383-163a-4623-ca92-2b0c4684fec0"
      },
      "outputs": [
        {
          "output_type": "stream",
          "name": "stdout",
          "text": [
            "\n",
            "round 1:\n",
            "- your outputs:\n",
            "parameter: tensor([1.1414, 1.1414]), gradient: tensor([-3.4952, -0.6046])\n",
            "states: {'step': 1, 'm': tensor([-0.3495, -0.0605]), 'v': tensor([0.1222, 0.0037])}\n",
            "- reference outputs:\n",
            "parameter: tensor([1.1414, 1.1414])\n",
            "states: {'step': 1, 'mt': tensor([-0.3495, -0.0605]), 'vt': tensor([0.1222, 0.0037])}\n",
            "\n",
            "round 2:\n",
            "- your outputs:\n",
            "parameter: tensor([1.2077, 1.0571]), gradient: tensor([1.5784, 1.2855])\n",
            "states: {'step': 2, 'm': tensor([-0.1567,  0.0741]), 'v': tensor([0.1459, 0.0201])}\n",
            "- reference outputs:\n",
            "parameter: tensor([1.2077, 1.0571])\n",
            "states: {'step': 2, 'mt': tensor([-0.1567,  0.0741]), 'vt': tensor([0.1459, 0.0201])}\n",
            "\n",
            "round 3:\n",
            "- your outputs:\n",
            "parameter: tensor([1.3430, 0.8797]), gradient: tensor([-2.3634,  2.8063])\n",
            "states: {'step': 3, 'm': tensor([-0.3774,  0.3474]), 'v': tensor([0.2003, 0.0987])}\n",
            "- reference outputs:\n",
            "parameter: tensor([1.3430, 0.8797])\n",
            "states: {'step': 3, 'mt': tensor([-0.3774,  0.3474]), 'vt': tensor([0.2003, 0.0987])}\n"
          ]
        }
      ],
      "source": [
        "# a simple bug testing for AdamW implementation for part A *only*.\n",
        "# your outputs should be the same as the reference function.\n",
        "# the internal state will likely be the same as well, but may be different if your\n",
        "# implementation is very different in some way.\n",
        "\n",
        "d = 2\n",
        "lr = 0.1\n",
        "beta1 = 0.9\n",
        "beta2 = 0.99\n",
        "use_norm_scaling = True\n",
        "epsilon = 1e-8\n",
        "\n",
        "def log_state(optim):\n",
        "    state = optim.state\n",
        "    for group in optim.param_groups:\n",
        "        for p in group['params']:\n",
        "            print(f'parameter: {p.data}, gradient: {p.grad}')\n",
        "            print(f'states: {state[p]}')\n",
        "\n",
        "# reference function\n",
        "def reference(p, m, v, t, g):\n",
        "    m = beta1*m + (1-beta1)*g\n",
        "    v = beta2*v + (1-beta2)*g**2\n",
        "    est = m / (epsilon + torch.sqrt(v))\n",
        "    if use_norm_scaling:\n",
        "        p = p - lr*torch.norm(p) * est\n",
        "    else:\n",
        "        p = p - lr * est\n",
        "    print(f'parameter: {p}')\n",
        "    print(f\"states: {{'step': {t}, 'mt': {m}, 'vt': {v}}}\")\n",
        "    return p, m, v, t+1\n",
        "\n",
        "p = torch.ones((d,))\n",
        "optim = AdamW_bias([p], lr=lr, betas=(beta1, beta2), \n",
        "                   use_norm_scaling=use_norm_scaling)\n",
        "\n",
        "p_ref = torch.ones((d,))\n",
        "m = torch.zeros((d,))\n",
        "v = torch.zeros((d,))\n",
        "t = 1\n",
        "\n",
        "for i in range(3):\n",
        "    print(f\"\\nround {i+1}:\")\n",
        "    print(\"- your outputs:\")\n",
        "    p.grad = 10 * torch.rand((d,)) - 5\n",
        "    optim.step()\n",
        "    log_state(optim)\n",
        "    print(\"- reference outputs:\")\n",
        "    p_ref, m, v, t = reference(p_ref, m, v, t, p.grad)"
      ]
    },
    {
      "cell_type": "markdown",
      "metadata": {
        "id": "WDRm96mkpPCZ"
      },
      "source": [
        "The following cells tests your optimizer on the min-GPT model."
      ]
    },
    {
      "cell_type": "code",
      "execution_count": null,
      "metadata": {
        "colab": {
          "base_uri": "https://localhost:8080/"
        },
        "id": "EXc_WnyVSOmI",
        "outputId": "52f947a0-6e26-487a-dff5-132464b9806f"
      },
      "outputs": [
        {
          "output_type": "stream",
          "name": "stdout",
          "text": [
            "data has 2652652 characters, 91 unique.\n"
          ]
        }
      ],
      "source": [
        "# the \"block size\" is the number of characters the model takes as input.\n",
        "# in this case, it can look at up to 128 characters when predicting the next\n",
        "# character.\n",
        "block_size = 128 # spatial extent of the model for its context\n",
        "\n",
        "# For our training set, we will use the text of the first four Harry Potter books.\n",
        "text = open(\"J. K. Rowling - Harry Potter 1 - Sorcerer's Stone.txt\", 'rb').read()\n",
        "text += open('J. K. Rowling - Harry Potter 2 - The Chamber Of Secrets.txt', 'rb').read()\n",
        "text += open('J. K. Rowling - Harry Potter 3 - Prisoner of Azkaban.txt', 'rb').read()\n",
        "text += open('J. K. Rowling - Harry Potter 4 - The Goblet of Fire.txt', 'rb').read()\n",
        "\n",
        "# text = open('input.txt', 'r').read() # don't worry we won't run out of file handles\n",
        "train_dataset = CharDataset(text, block_size) # one line of poem is roughly 50 characters"
      ]
    },
    {
      "cell_type": "code",
      "execution_count": null,
      "metadata": {
        "id": "EFTg91uRPthh"
      },
      "outputs": [],
      "source": [
        "# generate the configuration for the model. These parameters specify\n",
        "# the neural network architecture we will be using. It is not necessary\n",
        "# to understand this model architecture.\n",
        "mconf = GPTConfig(train_dataset.vocab_size, train_dataset.block_size,\n",
        "                  n_layer=8, n_head=8, n_embd=128)"
      ]
    },
    {
      "cell_type": "code",
      "execution_count": null,
      "metadata": {
        "id": "iLKHtyUsPuEl"
      },
      "outputs": [],
      "source": [
        "# generate training configurations for each of the optimizers. We will be testing\n",
        "# adam (official pytorch implementation)\n",
        "# adamw (official pytorch implementation)\n",
        "# your optimizer both with and without the norm_scaling flag set.\n",
        "def adamw_bias_factory(params, lr, betas):\n",
        "  return AdamW_bias(params, lr, betas)\n",
        "\n",
        "def adamw_bias_norm_scaling_factory(params, lr, betas):\n",
        "  return AdamW_bias(params, lr, betas, use_norm_scaling=True)\n",
        "\n",
        "optimizers = {\n",
        "    'adam': torch.optim.Adam, \n",
        "    'adamw': torch.optim.AdamW, \n",
        "    'adamw_bias': adamw_bias_factory, \n",
        "    'adamw_bias_norm_scaling': adamw_bias_norm_scaling_factory\n",
        "  }\n",
        "\n",
        "training_configs = {}\n",
        "\n",
        "for name, opt in optimizers.items():\n",
        "# construct a training config: this sets the learning rate, batch size, number \n",
        "# of epochs ect for each optimizer. warmup_tokens and final_tokens are parameters\n",
        "# used to setup a warm-up and decay learning rate scheduler.\n",
        "  training_configs[name] = TrainerConfig(max_epochs=5, batch_size=256, learning_rate=6e-4, optimizer=opt,\n",
        "                        lr_decay=True, warmup_tokens=512*20, final_tokens=200*len(train_dataset)*block_size,\n",
        "                        num_workers=2)\n",
        "torch.cuda.empty_cache()"
      ]
    },
    {
      "cell_type": "code",
      "execution_count": null,
      "metadata": {
        "id": "_gSApvJa_zte"
      },
      "outputs": [],
      "source": [
        "import gc"
      ]
    },
    {
      "cell_type": "code",
      "execution_count": null,
      "metadata": {
        "colab": {
          "base_uri": "https://localhost:8080/"
        },
        "id": "faU9I2fR_0-K",
        "outputId": "b6fb5ca3-93df-4e02-fb52-84a8f9e1b314"
      },
      "outputs": [
        {
          "output_type": "execute_result",
          "data": {
            "text/plain": [
              "298"
            ]
          },
          "metadata": {},
          "execution_count": 115
        }
      ],
      "source": [
        "gc.collect()"
      ]
    },
    {
      "cell_type": "code",
      "execution_count": null,
      "metadata": {
        "colab": {
          "base_uri": "https://localhost:8080/"
        },
        "id": "GxFY3AXTPvLf",
        "outputId": "31d50563-40bd-4f41-ce78-1808341fc1a1"
      },
      "outputs": [
        {
          "output_type": "stream",
          "name": "stdout",
          "text": [
            "training new model with optimizer: adam\n"
          ]
        },
        {
          "output_type": "stream",
          "name": "stderr",
          "text": [
            "epoch 1 iter 80: train loss 2.67471. lr 5.999633e-04: 100%|██████████| 81/81 [00:24<00:00,  3.24it/s]\n",
            "epoch 2 iter 80: train loss 2.61293. lr 5.998525e-04: 100%|██████████| 81/81 [00:25<00:00,  3.16it/s]\n",
            "epoch 3 iter 80: train loss 2.62358. lr 5.996678e-04: 100%|██████████| 81/81 [00:25<00:00,  3.18it/s]\n",
            "epoch 4 iter 80: train loss 2.60039. lr 5.994091e-04: 100%|██████████| 81/81 [00:25<00:00,  3.15it/s]\n",
            "epoch 5 iter 80: train loss 2.61173. lr 5.990766e-04: 100%|██████████| 81/81 [00:26<00:00,  3.10it/s]\n"
          ]
        },
        {
          "output_type": "stream",
          "name": "stdout",
          "text": [
            "data has 2652652 characters, 91 unique.\n",
            "final epoch train loss: 2.6159590026478696\n",
            "training new model with optimizer: adamw\n"
          ]
        },
        {
          "output_type": "stream",
          "name": "stderr",
          "text": [
            "epoch 1 iter 80: train loss 2.53138. lr 5.999633e-04: 100%|██████████| 81/81 [00:26<00:00,  3.09it/s]\n",
            "epoch 2 iter 80: train loss 2.40038. lr 5.998525e-04: 100%|██████████| 81/81 [00:26<00:00,  3.09it/s]\n",
            "epoch 3 iter 80: train loss 2.24619. lr 5.996678e-04: 100%|██████████| 81/81 [00:26<00:00,  3.10it/s]\n",
            "epoch 4 iter 80: train loss 2.14337. lr 5.994091e-04: 100%|██████████| 81/81 [00:26<00:00,  3.08it/s]\n",
            "epoch 5 iter 80: train loss 1.93592. lr 5.990766e-04: 100%|██████████| 81/81 [00:26<00:00,  3.09it/s]\n"
          ]
        },
        {
          "output_type": "stream",
          "name": "stdout",
          "text": [
            "data has 2652652 characters, 91 unique.\n",
            "final epoch train loss: 2.028879724902871\n",
            "training new model with optimizer: adamw_bias\n"
          ]
        },
        {
          "output_type": "stream",
          "name": "stderr",
          "text": [
            "epoch 1 iter 80: train loss 2.49404. lr 5.999633e-04: 100%|██████████| 81/81 [00:26<00:00,  3.07it/s]\n",
            "epoch 2 iter 80: train loss 2.39042. lr 5.998525e-04: 100%|██████████| 81/81 [00:26<00:00,  3.06it/s]\n",
            "epoch 3 iter 80: train loss 2.28602. lr 5.996678e-04: 100%|██████████| 81/81 [00:26<00:00,  3.07it/s]\n",
            "epoch 4 iter 80: train loss 2.10476. lr 5.994091e-04: 100%|██████████| 81/81 [00:26<00:00,  3.05it/s]\n",
            "epoch 5 iter 80: train loss 1.94891. lr 5.990766e-04: 100%|██████████| 81/81 [00:26<00:00,  3.06it/s]\n"
          ]
        },
        {
          "output_type": "stream",
          "name": "stdout",
          "text": [
            "data has 2652652 characters, 91 unique.\n",
            "final epoch train loss: 2.01365422319483\n",
            "training new model with optimizer: adamw_bias_norm_scaling\n"
          ]
        },
        {
          "output_type": "stream",
          "name": "stderr",
          "text": [
            "epoch 1 iter 80: train loss 2.50003. lr 5.999633e-04: 100%|██████████| 81/81 [00:27<00:00,  2.98it/s]\n",
            "epoch 2 iter 80: train loss 2.38791. lr 5.998525e-04: 100%|██████████| 81/81 [00:27<00:00,  2.99it/s]\n",
            "epoch 3 iter 80: train loss 2.26936. lr 5.996678e-04: 100%|██████████| 81/81 [00:27<00:00,  2.99it/s]\n",
            "epoch 4 iter 80: train loss 1.97803. lr 5.994091e-04: 100%|██████████| 81/81 [00:27<00:00,  2.99it/s]\n",
            "epoch 5 iter 80: train loss 1.80661. lr 5.990766e-04: 100%|██████████| 81/81 [00:27<00:00,  2.99it/s]\n"
          ]
        },
        {
          "output_type": "stream",
          "name": "stdout",
          "text": [
            "data has 2652652 characters, 91 unique.\n",
            "final epoch train loss: 1.8888056660875856\n",
            "best optimizer: adamw_bias_norm_scaling with loss: 1.8888056660875856\n"
          ]
        }
      ],
      "source": [
        "# train a model on each optimizer, keeping track of the best-performing one.\n",
        "# each epoch should take less than 2 minutes to train, for a total of at most\n",
        "# 4 algorithms * 5 epochs / algorithm * 2 minutes / epoch = 40 minutes training time\n",
        "losses = {}\n",
        "min_loss = float('inf')\n",
        "best_model = None\n",
        "best_optimizer = None\n",
        "for name, tconf in training_configs.items():\n",
        "  print(\"training new model with optimizer: {}\".format(name))\n",
        "  model = GPT(mconf)\n",
        "  trainer = Trainer(model, train_dataset, None, tconf)\n",
        "  train_loss = trainer.train()\n",
        "  losses[name] = train_loss\n",
        "  train_dataset = CharDataset(text, block_size)\n",
        "  print(\"final epoch train loss: {}\".format(train_loss))\n",
        "  if train_loss < min_loss:\n",
        "    best_optimizer = name\n",
        "    min_loss = train_loss\n",
        "\n",
        "print(\"best optimizer: {} with loss: {}\".format(best_optimizer, min_loss))"
      ]
    },
    {
      "cell_type": "code",
      "execution_count": null,
      "metadata": {
        "colab": {
          "base_uri": "https://localhost:8080/"
        },
        "id": "J1pDN13SGxf9",
        "outputId": "554f568b-c8e6-4685-a24e-7f61f0a8c3d7"
      },
      "outputs": [
        {
          "output_type": "stream",
          "name": "stdout",
          "text": [
            "training new model with optimizer: adamw_bias_norm_scaling\n",
            "data has 2652652 characters, 91 unique.\n"
          ]
        },
        {
          "output_type": "stream",
          "name": "stderr",
          "text": [
            "epoch 1 iter 80: train loss 2.47840. lr 5.999633e-04: 100%|██████████| 81/81 [00:27<00:00,  2.99it/s]\n",
            "epoch 2 iter 80: train loss 2.40797. lr 5.998525e-04: 100%|██████████| 81/81 [00:27<00:00,  2.95it/s]\n",
            "epoch 3 iter 80: train loss 2.26146. lr 5.996678e-04: 100%|██████████| 81/81 [00:27<00:00,  2.99it/s]\n",
            "epoch 4 iter 80: train loss 1.99882. lr 5.994091e-04: 100%|██████████| 81/81 [00:27<00:00,  2.99it/s]\n",
            "epoch 5 iter 80: train loss 1.74424. lr 5.990766e-04: 100%|██████████| 81/81 [00:27<00:00,  2.99it/s]\n",
            "epoch 6 iter 80: train loss 1.59826. lr 5.986703e-04: 100%|██████████| 81/81 [00:27<00:00,  2.99it/s]\n",
            "epoch 7 iter 80: train loss 1.53731. lr 5.981902e-04: 100%|██████████| 81/81 [00:26<00:00,  3.00it/s]\n",
            "epoch 8 iter 80: train loss 1.52006. lr 5.976366e-04: 100%|██████████| 81/81 [00:27<00:00,  2.99it/s]\n",
            "epoch 9 iter 80: train loss 1.49131. lr 5.970096e-04: 100%|██████████| 81/81 [00:27<00:00,  2.97it/s]\n",
            "epoch 10 iter 80: train loss 1.51333. lr 5.963092e-04: 100%|██████████| 81/81 [00:26<00:00,  3.01it/s]\n",
            "epoch 11 iter 80: train loss 1.45732. lr 5.955358e-04: 100%|██████████| 81/81 [00:27<00:00,  2.99it/s]\n",
            "epoch 12 iter 80: train loss 1.41190. lr 5.946894e-04: 100%|██████████| 81/81 [00:27<00:00,  3.00it/s]\n",
            "epoch 13 iter 80: train loss 1.43415. lr 5.937703e-04: 100%|██████████| 81/81 [00:27<00:00,  3.00it/s]\n",
            "epoch 14 iter 80: train loss 1.42086. lr 5.927787e-04: 100%|██████████| 81/81 [00:27<00:00,  2.99it/s]\n",
            "epoch 15 iter 80: train loss 1.35967. lr 5.917149e-04: 100%|██████████| 81/81 [00:27<00:00,  3.00it/s]\n",
            "epoch 16 iter 80: train loss 1.40788. lr 5.905791e-04: 100%|██████████| 81/81 [00:27<00:00,  2.97it/s]\n",
            "epoch 17 iter 80: train loss 1.37459. lr 5.893717e-04: 100%|██████████| 81/81 [00:27<00:00,  2.99it/s]\n",
            "epoch 18 iter 80: train loss 1.46355. lr 5.880928e-04: 100%|██████████| 81/81 [00:27<00:00,  2.99it/s]\n",
            "epoch 19 iter 80: train loss 1.36857. lr 5.867428e-04: 100%|██████████| 81/81 [00:26<00:00,  3.00it/s]\n",
            "epoch 20 iter 80: train loss 1.34435. lr 5.853221e-04: 100%|██████████| 81/81 [00:27<00:00,  2.98it/s]"
          ]
        },
        {
          "output_type": "stream",
          "name": "stdout",
          "text": [
            "final epoch train loss: 1.3787673387998416\n"
          ]
        },
        {
          "output_type": "stream",
          "name": "stderr",
          "text": [
            "\n"
          ]
        }
      ],
      "source": [
        "## Now that we have identified a best optimizer, let us train for a longer amount of time (another 40 minutes):\n",
        "long_train_conf = TrainerConfig(max_epochs=20, batch_size=256, learning_rate=6e-4, optimizer=optimizers[best_optimizer],\n",
        "                        lr_decay=True, warmup_tokens=512*20, final_tokens=200*len(train_dataset)*block_size,\n",
        "                        num_workers=2)\n",
        "print(\"training new model with optimizer: {}\".format(name))\n",
        "best_model = GPT(mconf)\n",
        "train_dataset = CharDataset(text, block_size)\n",
        "trainer = Trainer(best_model, train_dataset, None, long_train_conf)\n",
        "train_loss = trainer.train()\n",
        "print(\"final epoch train loss: {}\".format(train_loss))"
      ]
    },
    {
      "cell_type": "code",
      "execution_count": null,
      "metadata": {
        "colab": {
          "base_uri": "https://localhost:8080/"
        },
        "id": "oE48jgJLPwvT",
        "outputId": "aff9360e-c744-4839-a6b1-d618cc174bec"
      },
      "outputs": [
        {
          "output_type": "stream",
          "name": "stdout",
          "text": [
            "Harry opened the door, and her followed in the floor. Harry had botten a living to the windows.  \"It was a large would be a seconder.\"\n",
            "\"If you will be something in the top of the school beam.\"\n",
            "\"Harry,\" said Fred, turning the sight as though he was looking and speaking as though to the wall, though they were doing to do, the bed of sign of the sight white face was their hour feets.\n",
            "\"Have to deep to have to been a serious time,\" said Denath Eater Bertha Couldre Cedric.\n",
            "\n",
            "\"Won't be to the sine of the station, to have to do in the table.\"\n",
            "\n",
            "\"I took you a still boys there and to stell you and wanted to them,\" said Ron, turning\n",
            "thisk abrupt and left into the wand, whose was an owls.\n",
            "\n",
            "The window had been told\n",
            "the time of the way.\n",
            "\n",
            "There was thinging to the stops of the taile soft.\n",
            "\t\tA still table with three, with a look,\n",
            "\n",
            "\tThe Dark Ark Seamus Cream and Cristered, who was the castle with a score over the table\n",
            "\t\tHarry had never shouted himself open, the watch the first completed to sit a stop and\n",
            "\n",
            "\"And I was getting to him of the storm as he would be time.\"\n",
            "\n",
            "\"The Ministry of Magic Colin Crouch was a bother with the should of the back of the student tower the wand\n",
            "of the tent,\" he asked her.\n",
            "\n",
            "There was not sure.\n",
            "\n",
            "\"That would be what you some wish to their window of him was going to kill his teach, and the tope to thing hasen hand.\"\n",
            "\n",
            "\"The Ministry's teacher and we soften.\"\n",
            "\n",
            "He was as they were to dread from Harry and his face\n",
            "worked. He spoked the shope as he was a continued worried and looking to the stop of the face were.\n",
            "\n",
            "\"What's the boy and and sort of should the sign of his wind.\"\n",
            "\n",
            "\"Harry!\"\n",
            "\n",
            "\"What was throwing the top of yes. There was a been telling a lot of the wall while. He left\n",
            "a smoult tea of the contents. This was shouldn't stopped. \"It was sorting, you\n",
            "to take in the stands. I magic a long of second stream to stay to brand as hours\n",
            "whispers, after the steps.\n",
            "\n",
            "Tower, the first tere, and was the silvery time out to be his feet, the shadowl here.\n",
            "\n",
            "He took the stand again, took a long around th\n"
          ]
        }
      ],
      "source": [
        "# alright, sample some harry potter at the character level, starting from the seed\n",
        "# \"Harry opened the door, and\"\n",
        "# Note, this model is not advanced enough to learn how to actualy write sentences\n",
        "# that makes sense, but it CAN learn to write complete words and certain names.\n",
        "# With longer training times, bigger models, and more data, it is possible to\n",
        "# achieve truly amazing results!\n",
        "\n",
        "context = [ord(c) for c in \"Harry opened the door, and\"]\n",
        "x = torch.tensor([train_dataset.stoi[s] for s in context], dtype=torch.long)[None,...].to(trainer.device)\n",
        "y = sample(best_model, x, 2000, temperature=0.9, sample=True, top_k=5)[0]\n",
        "completion = ''.join([chr(train_dataset.itos[int(i)]) for i in y])\n",
        "print(completion)"
      ]
    },
    {
      "cell_type": "code",
      "execution_count": null,
      "metadata": {
        "id": "sGwWZ1Ppy0SW"
      },
      "outputs": [],
      "source": []
    }
  ],
  "metadata": {
    "accelerator": "GPU",
    "colab": {
      "collapsed_sections": [],
      "provenance": []
    },
    "gpuClass": "standard",
    "kernelspec": {
      "display_name": "Python 3.10.7 64-bit (microsoft store)",
      "language": "python",
      "name": "python3"
    },
    "language_info": {
      "codemirror_mode": {
        "name": "ipython",
        "version": 3
      },
      "file_extension": ".py",
      "mimetype": "text/x-python",
      "name": "python",
      "nbconvert_exporter": "python",
      "pygments_lexer": "ipython3",
      "version": "3.10.8"
    },
    "vscode": {
      "interpreter": {
        "hash": "46d477783de48e1d09fb6b0616d0d10e7815d6d95e3a5f6184d7f1bf32f0f1f8"
      }
    }
  },
  "nbformat": 4,
  "nbformat_minor": 0
}